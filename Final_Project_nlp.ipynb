{
  "nbformat": 4,
  "nbformat_minor": 0,
  "metadata": {
    "colab": {
      "name": "Final Project nlp.ipynb",
      "provenance": [],
      "collapsed_sections": []
    },
    "kernelspec": {
      "name": "python3",
      "display_name": "Python 3"
    }
  },
  "cells": [
    {
      "cell_type": "code",
      "metadata": {
        "id": "gZWFrSY3xkRN"
      },
      "source": [
        "import  warnings \n",
        "warnings.filterwarnings('ignore')"
      ],
      "execution_count": null,
      "outputs": []
    },
    {
      "cell_type": "code",
      "metadata": {
        "id": "VX4_1lB3xrDG"
      },
      "source": [
        "#import libraries\n",
        "import numpy as np\n",
        "import pandas as pd\n",
        "import nltk\n",
        "import re\n",
        "import seaborn as sns\n",
        "import matplotlib.pyplot as plt\n",
        "from nltk.corpus import stopwords \n",
        "from nltk.stem.snowball import SnowballStemmer\n",
        "from sklearn.model_selection import train_test_split\n",
        "from sklearn.feature_extraction.text import TfidfVectorizer \n",
        "from sklearn.metrics import confusion_matrix ,classification_report\n",
        "from sklearn.linear_model import SGDClassifier\n",
        "from sklearn.naive_bayes import MultinomialNB\n",
        "from sklearn.ensemble import RandomForestClassifier\n",
        "from sklearn.naive_bayes import GaussianNB\n"
      ],
      "execution_count": null,
      "outputs": []
    },
    {
      "cell_type": "code",
      "metadata": {
        "id": "D4gWwoVWytRt",
        "outputId": "548e37aa-c307-4912-d5d1-3a4ab09ffa55",
        "colab": {
          "base_uri": "https://localhost:8080/",
          "height": 218
        }
      },
      "source": [
        "\n",
        "#load data\n",
        "real=pd.read_csv(\"/content/drive/My Drive/True.csv\")\n",
        "fake=pd.read_csv(\"/content/drive/My Drive/Fake.csv\")\n",
        "\n",
        "\n",
        "\n",
        "print(fake.head(1))\n",
        "print(real.head(1))\n",
        "print(fake.columns)\n",
        "print(real.columns)\n",
        "print(len(fake))\n",
        "print(len(real))"
      ],
      "execution_count": null,
      "outputs": [
        {
          "output_type": "stream",
          "text": [
            "                                               title  ...               date\n",
            "0   Donald Trump Sends Out Embarrassing New Year’...  ...  December 31, 2017\n",
            "\n",
            "[1 rows x 4 columns]\n",
            "                                               title  ...                date\n",
            "0  As U.S. budget fight looms, Republicans flip t...  ...  December 31, 2017 \n",
            "\n",
            "[1 rows x 4 columns]\n",
            "Index(['title', 'text', 'subject', 'date'], dtype='object')\n",
            "Index(['title', 'text', 'subject', 'date'], dtype='object')\n",
            "23481\n",
            "21417\n"
          ],
          "name": "stdout"
        }
      ]
    },
    {
      "cell_type": "code",
      "metadata": {
        "id": "pBvSP2yWyxSr",
        "outputId": "460afe84-0f6e-4ab7-9313-60d51d08ac93",
        "colab": {
          "base_uri": "https://localhost:8080/",
          "height": 252
        }
      },
      "source": [
        "print(\"real\")\n",
        "#real_news\n",
        "print(real.title.head(1))\n",
        "print(real.text.head(1))\n",
        "print(real.subject.head(1))\n",
        "#fake news\n",
        "print(\"fake\")\n",
        "print(fake.title.head(1))\n",
        "print(fake.text.head(1))\n",
        "print(fake.subject.head(1))"
      ],
      "execution_count": null,
      "outputs": [
        {
          "output_type": "stream",
          "text": [
            "real\n",
            "0    As U.S. budget fight looms, Republicans flip t...\n",
            "Name: title, dtype: object\n",
            "0    WASHINGTON (Reuters) - The head of a conservat...\n",
            "Name: text, dtype: object\n",
            "0    politicsNews\n",
            "Name: subject, dtype: object\n",
            "fake\n",
            "0     Donald Trump Sends Out Embarrassing New Year’...\n",
            "Name: title, dtype: object\n",
            "0    Donald Trump just couldn t wish all Americans ...\n",
            "Name: text, dtype: object\n",
            "0    News\n",
            "Name: subject, dtype: object\n"
          ],
          "name": "stdout"
        }
      ]
    },
    {
      "cell_type": "code",
      "metadata": {
        "id": "q8JBHGe5yz-Z",
        "outputId": "878aaca5-1552-4e8d-bef7-a3625699a8d7",
        "colab": {
          "base_uri": "https://localhost:8080/",
          "height": 50
        }
      },
      "source": [
        "#unknown_publishers in real news\n",
        "unknown_publishers = []\n",
        "for index,row in enumerate(real.text.values):\n",
        "  try:\n",
        "    record = row.split(\" -\",maxsplit=1)\n",
        "    record[1]\n",
        "    assert(len(record[0])<260)\n",
        "  except:\n",
        "    unknown_publishers.append(index)\n",
        "print(unknown_publishers)   \n",
        "#print(real.iloc[unknown_publishers].text)  \n",
        "print(len(unknown_publishers))"
      ],
      "execution_count": null,
      "outputs": [
        {
          "output_type": "stream",
          "text": [
            "[3488, 4358, 4465, 5784, 6660, 6823, 7922, 8194, 8195, 8247, 8465, 8481, 8482, 8505, 8506, 8771, 8970, 9008, 9009, 9307, 9618, 9737, 10479]\n",
            "23\n"
          ],
          "name": "stdout"
        }
      ]
    },
    {
      "cell_type": "code",
      "metadata": {
        "id": "LUvQ8ydky2hO",
        "outputId": "9a03f7f3-811c-4b45-82b5-ba6c6483ede9",
        "colab": {
          "base_uri": "https://localhost:8080/",
          "height": 34
        }
      },
      "source": [
        "#seperating publication info in real news\n",
        "publisher = []\n",
        "temp_text = []\n",
        "for index , row in enumerate(real.text.values):\n",
        "  if index in unknown_publishers:\n",
        "    publisher.append(\"unknown\")\n",
        "    temp_text.append(row)\n",
        "    continue\n",
        "  record = row.split(\" -\",maxsplit=1)  \n",
        "  publisher.append(record[0])\n",
        "  temp_text.append(record[1]) \n",
        "real['publisher'] = publisher \n",
        "real['text'] = temp_text \n",
        "print(real.columns) "
      ],
      "execution_count": null,
      "outputs": [
        {
          "output_type": "stream",
          "text": [
            "Index(['title', 'text', 'subject', 'date', 'publisher'], dtype='object')\n"
          ],
          "name": "stdout"
        }
      ]
    },
    {
      "cell_type": "code",
      "metadata": {
        "id": "xCGAZ3-yy5Iw",
        "outputId": "aefbde99-68d5-4b83-fcf8-393cad88efb0",
        "colab": {
          "base_uri": "https://localhost:8080/",
          "height": 319
        }
      },
      "source": [
        "#fake news\n",
        "print(fake.title.head())\n",
        "print(fake.text.head())\n",
        "print(fake.subject.head())"
      ],
      "execution_count": null,
      "outputs": [
        {
          "output_type": "stream",
          "text": [
            "0     Donald Trump Sends Out Embarrassing New Year’...\n",
            "1     Drunk Bragging Trump Staffer Started Russian ...\n",
            "2     Sheriff David Clarke Becomes An Internet Joke...\n",
            "3     Trump Is So Obsessed He Even Has Obama’s Name...\n",
            "4     Pope Francis Just Called Out Donald Trump Dur...\n",
            "Name: title, dtype: object\n",
            "0    Donald Trump just couldn t wish all Americans ...\n",
            "1    House Intelligence Committee Chairman Devin Nu...\n",
            "2    On Friday, it was revealed that former Milwauk...\n",
            "3    On Christmas day, Donald Trump announced that ...\n",
            "4    Pope Francis used his annual Christmas Day mes...\n",
            "Name: text, dtype: object\n",
            "0    News\n",
            "1    News\n",
            "2    News\n",
            "3    News\n",
            "4    News\n",
            "Name: subject, dtype: object\n"
          ],
          "name": "stdout"
        }
      ]
    },
    {
      "cell_type": "code",
      "metadata": {
        "id": "gTCtEUIJy7c4",
        "outputId": "6669c829-def0-485e-8670-e56fecedf767",
        "colab": {
          "base_uri": "https://localhost:8080/",
          "height": 118
        }
      },
      "source": [
        "#clean data from null values\n",
        "empty_real_index_title=[index for index,title in enumerate(real.title.values) if str(title).strip()=='']\n",
        "empty_fake_index_title=[index for index,title in enumerate(fake.title.values) if str(title).strip()=='']\n",
        "print(len(empty_real_index_title))\n",
        "print(len(empty_fake_index_title))\n",
        "\n",
        "\n",
        "empty_real_index=[index for index,text in enumerate(real.text.values) if str(text).strip()=='']\n",
        "empty_fake_index=[index for index,text in enumerate(fake.text.values) if str(text).strip()=='']\n",
        "print(len(empty_real_index))\n",
        "print(len(empty_fake_index))\n",
        "\n",
        "\n",
        "empty_real_index_sub=[index for index,text in enumerate(real.subject.values) if str(text).strip()=='']\n",
        "empty_fake_index_sub=[index for index,text in enumerate(fake.subject.values) if str(text).strip()=='']\n",
        "print(len(empty_real_index_sub))\n",
        "print(len(empty_fake_index_sub))"
      ],
      "execution_count": null,
      "outputs": [
        {
          "output_type": "stream",
          "text": [
            "0\n",
            "0\n",
            "1\n",
            "630\n",
            "0\n",
            "0\n"
          ],
          "name": "stdout"
        }
      ]
    },
    {
      "cell_type": "code",
      "metadata": {
        "id": "6cVoTbm6y9sX",
        "outputId": "53a64be6-baee-4fc1-eb32-15b402b9635f",
        "colab": {
          "base_uri": "https://localhost:8080/",
          "height": 70
        }
      },
      "source": [
        "print(real.text.values[empty_real_index],'before')\n",
        "real=real.drop(empty_real_index,axis=0)\n",
        "print(real.text.values[empty_real_index],'after')\n",
        "\n",
        "\n",
        "#print(fake.text.values[empty_fake_index],'before')\n",
        "fake=fake.drop(empty_fake_index,axis=0)\n",
        "#print(fake.text.values[empty_fake_index],'after')"
      ],
      "execution_count": null,
      "outputs": [
        {
          "output_type": "stream",
          "text": [
            "[' '] before\n",
            "[' The U.S. Supreme Court is set to rule on Monday on a legal challenge by abortion providers to a Texas law requiring doctors performing the procedure to have “admitting privileges” at local hospitals and clinics to meet hospital-grade standards.  Following is a timeline of that challenge. July 2013 - The Republican-led Texas legislature passes and Republican Governor Rick Perry signs the law known as H.B. 2, putting new requirements on abortion providers. State officials say the law is intended to ensure the health and safety of women. September 2013 – Before the law is enforced, Planned Parenthood and other abortion providers challenge the measure. They assert that certain provisions, including one related to doctors’ “admitting privileges” - a type of formal affiliation - at a hospital within 30 miles (48 km) of an abortion clinic, are aimed at decreasing the abortion availability in the state. October 2013 – A U.S. district judge sides largely with the challengers, blocking the admitting privileges provision. March 2014 - The New Orleans-based U.S. Court of Appeals for the 5th Circuit, a regional federal appeals court covering Texas, Louisiana and Mississippi, reverses the lower court and permits much of the law to take effect.  April 2014 - Whole Woman’s Health and other abortion providers bring a new complaint against Texas, citing the effect of the law’s implementation and the number of clinics that have closed. The challengers focus on the admitting-privileges requirement and regulations governing clinic facility standards. August 2014 – A U.S. district court judge declares the admitting privileges and clinic requirements an unconstitutional burden on women’s access to abortion. October 2014 - The U.S. Court of Appeals for the 5th Circuit intervenes to allow implementation of both new regulations, but the U.S. Supreme Court blocks part of the order so that the mandate that clinics meet hospital-grade standards does not go into effect. June 2015 - After considering the full merits of the challenge, the U.S. Court of Appeals for the 5th Circuit reverses the district judge’s decision, finding the judge should have deferred to the legislature’s stated health and safety goals. The appeals court also says most of the lawsuit should have been barred because the legal issues it raises already were addressed in the case filed by Planned Parenthood. June 2015 - The U.S. Supreme Court by a 5-4 vote puts a temporary hold on the 5th Circuit’s ruling while the justices consider whether to hear the challengers’ appeal. That action blocks the provision regarding hospital-grade standards from taking effect. September 2015 - The abortion providers challenging the Texas restrictions ask the U.S. Supreme Court to hear their appeal of the 5th Circuit’s ruling. November 2015 - The U.S. Supreme Court agrees to hear the challenge by abortion providers to the Texas restrictions. February 2016 - Conservative U.S. Supreme Court Justice Antonin Scalia, a supporter of abortion restrictions, dies at age 79, leaving the court shorthanded and evenly divided with four liberals and four conservatives. March 2016 - The U.S. Supreme Court hears 85 minutes of oral arguments in the case, known as Whole Woman’s Health v. Hellerstedt. The court’s four liberal justices indicate they believe the law intrudes on a woman’s constitutional right to abortion. The four conservative justices express doubts about claims by abortion providers that the law forced numerous clinics to shut down. June 2016 - The U.S. Supreme Court is due to rule on Monday in Whole Woman’s Health v. Hellerstedt. '] after\n"
          ],
          "name": "stdout"
        }
      ]
    },
    {
      "cell_type": "code",
      "metadata": {
        "id": "XdQxMCEbzACb",
        "outputId": "d6f92675-354a-44fe-c637-f02b654f9b68",
        "colab": {
          "base_uri": "https://localhost:8080/",
          "height": 195
        }
      },
      "source": [
        "#add class info\n",
        "real['class'] = 1\n",
        "fake['class'] = 0\n",
        "#combining title and text\n",
        "real['text'] = real.title + \" \" + real.text + \" \" + real.subject\n",
        "fake['text'] = fake.title + \" \" + fake.text + \" \" + fake.subject\n",
        "#clean \n",
        "real = real.drop(['date','title','publisher','subject'],axis=1)\n",
        "fake = fake.drop(['date','title','subject'],axis=1)\n",
        "#combining both into new dataframe\n",
        "data = pd.concat([real,fake],ignore_index = True)\n",
        "\n",
        "df = data.sample(frac=1).reset_index(drop=True)\n",
        "df.head()"
      ],
      "execution_count": null,
      "outputs": [
        {
          "output_type": "execute_result",
          "data": {
            "text/html": [
              "<div>\n",
              "<style scoped>\n",
              "    .dataframe tbody tr th:only-of-type {\n",
              "        vertical-align: middle;\n",
              "    }\n",
              "\n",
              "    .dataframe tbody tr th {\n",
              "        vertical-align: top;\n",
              "    }\n",
              "\n",
              "    .dataframe thead th {\n",
              "        text-align: right;\n",
              "    }\n",
              "</style>\n",
              "<table border=\"1\" class=\"dataframe\">\n",
              "  <thead>\n",
              "    <tr style=\"text-align: right;\">\n",
              "      <th></th>\n",
              "      <th>text</th>\n",
              "      <th>class</th>\n",
              "    </tr>\n",
              "  </thead>\n",
              "  <tbody>\n",
              "    <tr>\n",
              "      <th>0</th>\n",
              "      <td>PLANNED PARENTHOOD Draws Outrage After Mother’...</td>\n",
              "      <td>0</td>\n",
              "    </tr>\n",
              "    <tr>\n",
              "      <th>1</th>\n",
              "      <td>Senator Delivers SCATHING Rebuke To His GOP C...</td>\n",
              "      <td>0</td>\n",
              "    </tr>\n",
              "    <tr>\n",
              "      <th>2</th>\n",
              "      <td>Japan's Abe: agreed with Trump, Putin on coope...</td>\n",
              "      <td>1</td>\n",
              "    </tr>\n",
              "    <tr>\n",
              "      <th>3</th>\n",
              "      <td>Military option must remain on the table with ...</td>\n",
              "      <td>1</td>\n",
              "    </tr>\n",
              "    <tr>\n",
              "      <th>4</th>\n",
              "      <td>SEC nominee Clayton vows separation from his W...</td>\n",
              "      <td>1</td>\n",
              "    </tr>\n",
              "  </tbody>\n",
              "</table>\n",
              "</div>"
            ],
            "text/plain": [
              "                                                text  class\n",
              "0  PLANNED PARENTHOOD Draws Outrage After Mother’...      0\n",
              "1   Senator Delivers SCATHING Rebuke To His GOP C...      0\n",
              "2  Japan's Abe: agreed with Trump, Putin on coope...      1\n",
              "3  Military option must remain on the table with ...      1\n",
              "4  SEC nominee Clayton vows separation from his W...      1"
            ]
          },
          "metadata": {
            "tags": []
          },
          "execution_count": 10
        }
      ]
    },
    {
      "cell_type": "code",
      "metadata": {
        "id": "Gim2qNFBzD7B"
      },
      "source": [
        "#Tokenization & stem\n",
        "stemmer = SnowballStemmer(\"english\")\n",
        "\n",
        "def tokenize_and_stem(text):\n",
        "  tokens = [word for sentt in nltk.sent_tokenize(text) for word in nltk.word_tokenize(sentt)]\n",
        "  filtered_tokens = [token for token in tokens if re.search('[a-zA-Z]',token)]\n",
        "  stem = [stemmer.stem(ftoken) for ftoken in filtered_tokens]\n",
        "  return stem  "
      ],
      "execution_count": null,
      "outputs": []
    },
    {
      "cell_type": "code",
      "metadata": {
        "id": "BGkzPf0fzNO7",
        "outputId": "82ab0744-9f71-4412-8ab7-216888d4cdcf",
        "colab": {
          "base_uri": "https://localhost:8080/",
          "height": 50
        }
      },
      "source": [
        "nltk.download('punkt')\n",
        "rows = [row for row in df['text']]"
      ],
      "execution_count": null,
      "outputs": [
        {
          "output_type": "stream",
          "text": [
            "[nltk_data] Downloading package punkt to /root/nltk_data...\n",
            "[nltk_data]   Unzipping tokenizers/punkt.zip.\n"
          ],
          "name": "stdout"
        }
      ]
    },
    {
      "cell_type": "code",
      "metadata": {
        "id": "z4ZymjDHzSA8"
      },
      "source": [
        "#Create TfidfVectorizer\n",
        "tfidf_vectorizer = TfidfVectorizer(stop_words='english',tokenizer=tokenize_and_stem,max_df=0.8, min_df=0.2,ngram_range=(1,3))\n",
        "tfidf_m = tfidf_vectorizer.fit_transform(rows)"
      ],
      "execution_count": null,
      "outputs": []
    },
    {
      "cell_type": "code",
      "metadata": {
        "id": "_bMbVgHvzUoL",
        "outputId": "2d66e19f-b7c7-4c3d-e8f9-ed49449fb9b3",
        "colab": {
          "base_uri": "https://localhost:8080/",
          "height": 185
        }
      },
      "source": [
        "X = tfidf_m.toarray()\n",
        "y = df['class'].values\n",
        "print(X)\n",
        "print(y)\n",
        "print(type(X))\n",
        "print(type(y))"
      ],
      "execution_count": null,
      "outputs": [
        {
          "output_type": "stream",
          "text": [
            "[[0.         0.         0.         ... 0.         0.         0.        ]\n",
            " [0.         0.         0.         ... 0.         0.         0.        ]\n",
            " [0.         0.         0.         ... 0.         0.         0.        ]\n",
            " ...\n",
            " [0.         0.         0.31965908 ... 0.25111743 0.         0.20977939]\n",
            " [0.         0.13774948 0.         ... 0.         0.         0.05783975]\n",
            " [0.         0.         0.11108489 ... 0.11635459 0.1243239  0.09720072]]\n",
            "[0 0 1 ... 0 0 1]\n",
            "<class 'numpy.ndarray'>\n",
            "<class 'numpy.ndarray'>\n"
          ],
          "name": "stdout"
        }
      ]
    },
    {
      "cell_type": "code",
      "metadata": {
        "id": "B-qUKXQozXvQ"
      },
      "source": [
        "np.save('/content/drive/My Drive/X.npy' , X)\n",
        "np.save('/content/drive/My Drive/y.npy' , y)"
      ],
      "execution_count": null,
      "outputs": []
    },
    {
      "cell_type": "code",
      "metadata": {
        "id": "Miu_fgZYzc4w",
        "outputId": "a9ae39ef-6006-407f-d770-064ecf3f7629",
        "colab": {
          "base_uri": "https://localhost:8080/",
          "height": 34
        }
      },
      "source": [
        "#split data to test and train\n",
        "X = np.load('/content/drive/My Drive/X.npy')\n",
        "y = np.load('/content/drive/My Drive/y.npy')\n",
        "print('Cells : {} | labels : {}'.format(X.shape , y.shape))\n",
        "X_train , X_test , y_train , y_test = train_test_split(X,y,test_size = 0.2,random_state=42)"
      ],
      "execution_count": null,
      "outputs": [
        {
          "output_type": "stream",
          "text": [
            "Cells : (44267, 74) | labels : (44267,)\n"
          ],
          "name": "stdout"
        }
      ]
    },
    {
      "cell_type": "code",
      "metadata": {
        "id": "DpDxOseozfH8",
        "outputId": "8cbcbe8f-8ec0-4667-d2ce-1b0231b9e87b",
        "colab": {
          "base_uri": "https://localhost:8080/",
          "height": 50
        }
      },
      "source": [
        "print(len(X_train))\n",
        "print(len(y_test))"
      ],
      "execution_count": null,
      "outputs": [
        {
          "output_type": "stream",
          "text": [
            "35413\n",
            "8854\n"
          ],
          "name": "stdout"
        }
      ]
    },
    {
      "cell_type": "code",
      "metadata": {
        "id": "iF0FlsHWzhQa",
        "outputId": "12ded763-1c07-47a9-8acd-0972d3e7afce",
        "colab": {
          "base_uri": "https://localhost:8080/",
          "height": 50
        }
      },
      "source": [
        "#LogisticRegression \n",
        "LogisticReg = SGDClassifier(loss='log')\n",
        "LogisticReg.fit(X_train,y_train)\n",
        "print(LogisticReg.score(X_train,y_train))\n",
        "print(LogisticReg.score(X_test,y_test))\n"
      ],
      "execution_count": null,
      "outputs": [
        {
          "output_type": "stream",
          "text": [
            "0.9782565724451473\n",
            "0.9783148859272646\n"
          ],
          "name": "stdout"
        }
      ]
    },
    {
      "cell_type": "code",
      "metadata": {
        "id": "xXaw4fK3-NCj",
        "outputId": "8d36368f-3799-4a9e-8208-94eecb029ee0",
        "colab": {
          "base_uri": "https://localhost:8080/",
          "height": 502
        }
      },
      "source": [
        "y_pred2=LogisticReg.predict(X_test)\n",
        "LogisticReg_confuse = confusion_matrix(y_test,y_pred2)\n",
        "LogisticReg_confuse_df = pd.DataFrame(LogisticReg_confuse)\n",
        "plt.figure(figsize=(5,5))\n",
        "sns.heatmap(LogisticReg_confuse_df,annot=True,fmt='g')\n",
        "plt.title('confusion matrix heatmap for LogisticReg')\n",
        "plt.xlabel('True label')\n",
        "plt.ylabel('predicted label')\n",
        "plt.show()\n",
        "print(classification_report(y_test, y_pred2))"
      ],
      "execution_count": null,
      "outputs": [
        {
          "output_type": "display_data",
          "data": {
            "image/png": "[encoded data removed]",
            "text/plain": [
              "<Figure size 360x360 with 2 Axes>"
            ]
          },
          "metadata": {
            "tags": [],
            "needs_background": "light"
          }
        },
        {
          "output_type": "stream",
          "text": [
            "              precision    recall  f1-score   support\n",
            "\n",
            "           0       0.99      0.97      0.98      4529\n",
            "           1       0.97      0.99      0.98      4325\n",
            "\n",
            "    accuracy                           0.98      8854\n",
            "   macro avg       0.98      0.98      0.98      8854\n",
            "weighted avg       0.98      0.98      0.98      8854\n",
            "\n"
          ],
          "name": "stdout"
        }
      ]
    },
    {
      "cell_type": "code",
      "metadata": {
        "id": "9slZBCMy4cks",
        "outputId": "00ef17f2-68b7-4ee7-c9b3-4a91f83e8a5d",
        "colab": {
          "base_uri": "https://localhost:8080/",
          "height": 50
        }
      },
      "source": [
        "\n",
        "# linsvm\n",
        "linsvm = SGDClassifier(loss='hinge')\n",
        "linsvm.fit(X_train,y_train)\n",
        "print(linsvm.score(X_train,y_train))\n",
        "print(linsvm.score(X_test,y_test))"
      ],
      "execution_count": null,
      "outputs": [
        {
          "output_type": "stream",
          "text": [
            "0.993307542427922\n",
            "0.994465778179354\n"
          ],
          "name": "stdout"
        }
      ]
    },
    {
      "cell_type": "code",
      "metadata": {
        "id": "OIFn_IPV-Xwx",
        "outputId": "c2165665-00bc-4566-a53b-83ba0f8426a6",
        "colab": {
          "base_uri": "https://localhost:8080/",
          "height": 502
        }
      },
      "source": [
        "y_pred3=linsvm.predict(X_test)\n",
        "linsvm_confuse = confusion_matrix(y_test,y_pred3)\n",
        "linsvm_confuse_df = pd.DataFrame(linsvm_confuse)\n",
        "plt.figure(figsize=(5,5))\n",
        "sns.heatmap(linsvm_confuse_df,annot=True,fmt='g')\n",
        "plt.title('confusion matrix heatmap for linsvm')\n",
        "plt.xlabel('True label')\n",
        "plt.ylabel('predicted label')\n",
        "plt.show()\n",
        "print(classification_report(y_test, y_pred3))"
      ],
      "execution_count": null,
      "outputs": [
        {
          "output_type": "display_data",
          "data": {
            "image/png": "[encoded data removed]",
            "text/plain": [
              "<Figure size 360x360 with 2 Axes>"
            ]
          },
          "metadata": {
            "tags": [],
            "needs_background": "light"
          }
        },
        {
          "output_type": "stream",
          "text": [
            "              precision    recall  f1-score   support\n",
            "\n",
            "           0       0.99      1.00      0.99      4529\n",
            "           1       1.00      0.99      0.99      4325\n",
            "\n",
            "    accuracy                           0.99      8854\n",
            "   macro avg       0.99      0.99      0.99      8854\n",
            "weighted avg       0.99      0.99      0.99      8854\n",
            "\n"
          ],
          "name": "stdout"
        }
      ]
    },
    {
      "cell_type": "code",
      "metadata": {
        "id": "yi45gTe67poQ",
        "outputId": "cddb0082-fc24-41a6-f6aa-b9238cfac040",
        "colab": {
          "base_uri": "https://localhost:8080/",
          "height": 50
        }
      },
      "source": [
        "#Applying GaussianNB\n",
        "nb = GaussianNB()\n",
        "nb.fit(X_train, y_train)\n",
        "print(nb.score(X_train,y_train))\n",
        "print(nb.score(X_test,y_test))"
      ],
      "execution_count": null,
      "outputs": [
        {
          "output_type": "stream",
          "text": [
            "0.9885635218704996\n",
            "0.9897221594759431\n"
          ],
          "name": "stdout"
        }
      ]
    },
    {
      "cell_type": "code",
      "metadata": {
        "id": "p1DB7QyO-cTI",
        "outputId": "13d04434-186c-45cf-9ddc-a33ad7c9e248",
        "colab": {
          "base_uri": "https://localhost:8080/",
          "height": 502
        }
      },
      "source": [
        "y_pred4=nb.predict(X_test)\n",
        "nb_confuse = confusion_matrix(y_test,y_pred4)\n",
        "nb_confuse_df = pd.DataFrame(nb_confuse)\n",
        "plt.figure(figsize=(5,5))\n",
        "sns.heatmap(nb_confuse_df,annot=True,fmt='g')\n",
        "plt.title('confusion matrix heatmap for nb')\n",
        "plt.xlabel('True label')\n",
        "plt.ylabel('predicted label')\n",
        "plt.show()\n",
        "print(classification_report(y_test, y_pred4))"
      ],
      "execution_count": null,
      "outputs": [
        {
          "output_type": "display_data",
          "data": {
            "image/png": "[encoded data removed]",
            "text/plain": [
              "<Figure size 360x360 with 2 Axes>"
            ]
          },
          "metadata": {
            "tags": [],
            "needs_background": "light"
          }
        },
        {
          "output_type": "stream",
          "text": [
            "              precision    recall  f1-score   support\n",
            "\n",
            "           0       1.00      0.98      0.99      4529\n",
            "           1       0.98      1.00      0.99      4325\n",
            "\n",
            "    accuracy                           0.99      8854\n",
            "   macro avg       0.99      0.99      0.99      8854\n",
            "weighted avg       0.99      0.99      0.99      8854\n",
            "\n"
          ],
          "name": "stdout"
        }
      ]
    },
    {
      "cell_type": "code",
      "metadata": {
        "id": "G6QlM3Bu72Un",
        "outputId": "636b0310-a346-49dd-ee0f-af32f27b1678",
        "colab": {
          "base_uri": "https://localhost:8080/",
          "height": 50
        }
      },
      "source": [
        "#random forest\n",
        "RandomForestClassifierModel = RandomForestClassifier(criterion = 'gini',n_estimators=100,max_depth=2,random_state=33) #criterion can be also : entropy \n",
        "RandomForestClassifierModel.fit(X_train, y_train)\n",
        "print('RandomForestClassifierModel Train Score is : ' , RandomForestClassifierModel.score(X_train, y_train))\n",
        "print('RandomForestClassifierModel Test Score is : ' , RandomForestClassifierModel.score(X_test, y_test))"
      ],
      "execution_count": null,
      "outputs": [
        {
          "output_type": "stream",
          "text": [
            "RandomForestClassifierModel Train Score is :  0.9742749837630249\n",
            "RandomForestClassifierModel Test Score is :  0.9726677208041563\n"
          ],
          "name": "stdout"
        }
      ]
    },
    {
      "cell_type": "code",
      "metadata": {
        "id": "TCpCgvz5-s2q",
        "outputId": "2ead34de-cd80-4f06-e0b1-896d1c3cd602",
        "colab": {
          "base_uri": "https://localhost:8080/",
          "height": 502
        }
      },
      "source": [
        "y_pred5=RandomForestClassifierModel.predict(X_test)\n",
        "nb_confuse = confusion_matrix(y_test,y_pred5)\n",
        "nb_confuse_df = pd.DataFrame(nb_confuse)\n",
        "plt.figure(figsize=(5,5))\n",
        "sns.heatmap(nb_confuse_df,annot=True,fmt='g')\n",
        "plt.title('confusion matrix heatmap for nb')\n",
        "plt.xlabel('True label')\n",
        "plt.ylabel('predicted label')\n",
        "plt.show()\n",
        "print(classification_report(y_test, y_pred5))"
      ],
      "execution_count": null,
      "outputs": [
        {
          "output_type": "display_data",
          "data": {
            "image/png": "[encoded data removed]",
            "text/plain": [
              "<Figure size 360x360 with 2 Axes>"
            ]
          },
          "metadata": {
            "tags": [],
            "needs_background": "light"
          }
        },
        {
          "output_type": "stream",
          "text": [
            "              precision    recall  f1-score   support\n",
            "\n",
            "           0       0.99      0.96      0.97      4529\n",
            "           1       0.96      0.99      0.97      4325\n",
            "\n",
            "    accuracy                           0.97      8854\n",
            "   macro avg       0.97      0.97      0.97      8854\n",
            "weighted avg       0.97      0.97      0.97      8854\n",
            "\n"
          ],
          "name": "stdout"
        }
      ]
    },
    {
      "cell_type": "code",
      "metadata": {
        "id": "RPt6CvrP75Um",
        "outputId": "675790ba-9f32-40e5-f46e-36d089f02727",
        "colab": {
          "base_uri": "https://localhost:8080/",
          "height": 50
        }
      },
      "source": [
        "#Applying MultinomialNB\n",
        "Mnb = MultinomialNB()\n",
        "Mnb.fit(X_train, y_train)\n",
        "print(Mnb.score(X_train,y_train))\n",
        "print(Mnb.score(X_test,y_test))\n"
      ],
      "execution_count": null,
      "outputs": [
        {
          "output_type": "stream",
          "text": [
            "0.9484934910908424\n",
            "0.9491755138920263\n"
          ],
          "name": "stdout"
        }
      ]
    },
    {
      "cell_type": "code",
      "metadata": {
        "id": "BattL8JI8O7Z",
        "outputId": "b4f1d595-d6be-4714-b51c-58a523e760a4",
        "colab": {
          "base_uri": "https://localhost:8080/",
          "height": 502
        }
      },
      "source": [
        "y_pred6=Mnb.predict(X_test)\n",
        "nb_confuse = confusion_matrix(y_test,y_pred6)\n",
        "nb_confuse_df = pd.DataFrame(nb_confuse)\n",
        "plt.figure(figsize=(5,5))\n",
        "sns.heatmap(nb_confuse_df,annot=True,fmt='g')\n",
        "plt.title('confusion matrix heatmap for nb')\n",
        "plt.xlabel('True label')\n",
        "plt.ylabel('predicted label')\n",
        "plt.show()\n",
        "print(classification_report(y_test, y_pred4))"
      ],
      "execution_count": null,
      "outputs": [
        {
          "output_type": "display_data",
          "data": {
            "image/png": "[encoded data removed]",
            "text/plain": [
              "<Figure size 360x360 with 2 Axes>"
            ]
          },
          "metadata": {
            "tags": [],
            "needs_background": "light"
          }
        },
        {
          "output_type": "stream",
          "text": [
            "              precision    recall  f1-score   support\n",
            "\n",
            "           0       1.00      0.98      0.99      4529\n",
            "           1       0.98      1.00      0.99      4325\n",
            "\n",
            "    accuracy                           0.99      8854\n",
            "   macro avg       0.99      0.99      0.99      8854\n",
            "weighted avg       0.99      0.99      0.99      8854\n",
            "\n"
          ],
          "name": "stdout"
        }
      ]
    },
    {
      "cell_type": "code",
      "metadata": {
        "id": "aHZm4wWOC3vn"
      },
      "source": [
        ""
      ],
      "execution_count": null,
      "outputs": []
    }
  ]
}